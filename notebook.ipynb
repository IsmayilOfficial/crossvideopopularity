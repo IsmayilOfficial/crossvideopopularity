{
 "cells": [
  {
   "cell_type": "code",
   "execution_count": 1,
   "metadata": {
    "_cell_guid": "4646b239-028d-4b2a-b370-4905c33f7e62",
    "_kg_hide-input": false,
    "_kg_hide-output": false,
    "_uuid": "c012bf0f8560eeab484e1abdcbb2f1c77662d624"
   },
   "outputs": [
    {
     "data": {
      "text/html": [
       "        <script type=\"text/javascript\">\n",
       "        window.PlotlyConfig = {MathJaxConfig: 'local'};\n",
       "        if (window.MathJax) {MathJax.Hub.Config({SVG: {font: \"STIX-Web\"}});}\n",
       "        if (typeof require !== 'undefined') {\n",
       "        require.undef(\"plotly\");\n",
       "        requirejs.config({\n",
       "            paths: {\n",
       "                'plotly': ['https://cdn.plot.ly/plotly-latest.min']\n",
       "            }\n",
       "        });\n",
       "        require(['plotly'], function(Plotly) {\n",
       "            window._Plotly = Plotly;\n",
       "        });\n",
       "        }\n",
       "        </script>\n",
       "        "
      ]
     },
     "metadata": {},
     "output_type": "display_data"
    }
   ],
   "source": [
    "import math\n",
    "import pandas as pd\n",
    "import numpy as np\n",
    "import seaborn as sns\n",
    "import json\n",
    "import itertools\n",
    "import re\n",
    "import random\n",
    "\n",
    "import matplotlib.pyplot as plt\n",
    "import matplotlib.gridspec as gridspec\n",
    "import chart_studio.plotly as py\n",
    "import plotly.graph_objs as go\n",
    "\n",
    "from datetime import date, timedelta\n",
    "from skimage.draw import ellipse\n",
    "from textwrap import wrap\n",
    "from plotly import __version__\n",
    "from plotly.offline import download_plotlyjs, init_notebook_mode, plot, iplot\n",
    "from IPython.display import HTML, Image\n",
    "from plotly import tools\n",
    "from bs4 import BeautifulSoup\n",
    "from nltk.corpus import stopwords\n",
    "from sklearn import preprocessing\n",
    "from sklearn.model_selection import train_test_split\n",
    "from sklearn.metrics import matthews_corrcoef\n",
    "from sklearn.metrics import hamming_loss, f1_score\n",
    "from sklearn.feature_extraction.text import TfidfVectorizer\n",
    "\n",
    "plt.style.use('seaborn-white')\n",
    "%matplotlib inline\n",
    "init_notebook_mode(connected=True)"
   ]
  },
  {
   "cell_type": "code",
   "execution_count": 2,
   "metadata": {
    "_cell_guid": "d24b91f3-1e3e-49e7-aa0a-4d6c3ea90d19",
    "_uuid": "5d52d3ec511c26e15a8fe26908bb0d4b4c278d6d"
   },
   "outputs": [],
   "source": [
    "# read csv file\n",
    "# 12 columns that should be in database \n",
    "columns = ['video_id', 'title', 'channel_title', 'category_id',\n",
    "          'tags', 'views', 'likes', 'dislikes', 'comment_count',\n",
    "          'thumbnail_link']\n",
    "\n",
    "gb_vid_df =  pd.read_csv(\"GBvideos.csv\", usecols = columns)\n",
    "us_vid_df =  pd.read_csv(\"USvideos.csv\", usecols = columns)\n",
    "\n",
    "\n"
   ]
  },
  {
   "cell_type": "code",
   "execution_count": 4,
   "metadata": {
    "_cell_guid": "9b7f2397-0efe-4500-bf68-c5eb8ed8ab69",
    "_uuid": "3c8ada5ef2da9f2e680dc1a6aef8a88a5a094cc6"
   },
   "outputs": [
    {
     "data": {
      "text/html": [
       "<div>\n",
       "<style scoped>\n",
       "    .dataframe tbody tr th:only-of-type {\n",
       "        vertical-align: middle;\n",
       "    }\n",
       "\n",
       "    .dataframe tbody tr th {\n",
       "        vertical-align: top;\n",
       "    }\n",
       "\n",
       "    .dataframe thead th {\n",
       "        text-align: right;\n",
       "    }\n",
       "</style>\n",
       "<table border=\"1\" class=\"dataframe\">\n",
       "  <thead>\n",
       "    <tr style=\"text-align: right;\">\n",
       "      <th></th>\n",
       "      <th>video_id</th>\n",
       "      <th>title</th>\n",
       "      <th>channel_title</th>\n",
       "      <th>category_id</th>\n",
       "      <th>tags</th>\n",
       "      <th>views</th>\n",
       "      <th>likes</th>\n",
       "      <th>dislikes</th>\n",
       "      <th>comment_count</th>\n",
       "      <th>thumbnail_link</th>\n",
       "    </tr>\n",
       "  </thead>\n",
       "  <tbody>\n",
       "    <tr>\n",
       "      <th>0</th>\n",
       "      <td>Jw1Y-zhQURU</td>\n",
       "      <td>John Lewis Christmas Ad 2017 - #MozTheMonster</td>\n",
       "      <td>John Lewis</td>\n",
       "      <td>26</td>\n",
       "      <td>christmas|\"john lewis christmas\"|\"john lewis\"|...</td>\n",
       "      <td>7224515</td>\n",
       "      <td>55681</td>\n",
       "      <td>10247</td>\n",
       "      <td>9479</td>\n",
       "      <td>https://i.ytimg.com/vi/Jw1Y-zhQURU/default.jpg</td>\n",
       "    </tr>\n",
       "    <tr>\n",
       "      <th>1</th>\n",
       "      <td>3s1rvMFUweQ</td>\n",
       "      <td>Taylor Swift: …Ready for It? (Live) - SNL</td>\n",
       "      <td>Saturday Night Live</td>\n",
       "      <td>24</td>\n",
       "      <td>SNL|\"Saturday Night Live\"|\"SNL Season 43\"|\"Epi...</td>\n",
       "      <td>1053632</td>\n",
       "      <td>25561</td>\n",
       "      <td>2294</td>\n",
       "      <td>2757</td>\n",
       "      <td>https://i.ytimg.com/vi/3s1rvMFUweQ/default.jpg</td>\n",
       "    </tr>\n",
       "    <tr>\n",
       "      <th>2</th>\n",
       "      <td>n1WpP7iowLc</td>\n",
       "      <td>Eminem - Walk On Water (Audio) ft. Beyoncé</td>\n",
       "      <td>EminemVEVO</td>\n",
       "      <td>10</td>\n",
       "      <td>Eminem|\"Walk\"|\"On\"|\"Water\"|\"Aftermath/Shady/In...</td>\n",
       "      <td>17158579</td>\n",
       "      <td>787420</td>\n",
       "      <td>43420</td>\n",
       "      <td>125882</td>\n",
       "      <td>https://i.ytimg.com/vi/n1WpP7iowLc/default.jpg</td>\n",
       "    </tr>\n",
       "    <tr>\n",
       "      <th>3</th>\n",
       "      <td>PUTEiSjKwJU</td>\n",
       "      <td>Goals from Salford City vs Class of 92 and Fri...</td>\n",
       "      <td>Salford City Football Club</td>\n",
       "      <td>17</td>\n",
       "      <td>Salford City FC|\"Salford City\"|\"Salford\"|\"Clas...</td>\n",
       "      <td>27833</td>\n",
       "      <td>193</td>\n",
       "      <td>12</td>\n",
       "      <td>37</td>\n",
       "      <td>https://i.ytimg.com/vi/PUTEiSjKwJU/default.jpg</td>\n",
       "    </tr>\n",
       "    <tr>\n",
       "      <th>4</th>\n",
       "      <td>rHwDegptbI4</td>\n",
       "      <td>Dashcam captures truck's near miss with child ...</td>\n",
       "      <td>Cute Girl Videos</td>\n",
       "      <td>25</td>\n",
       "      <td>[none]</td>\n",
       "      <td>9815</td>\n",
       "      <td>30</td>\n",
       "      <td>2</td>\n",
       "      <td>30</td>\n",
       "      <td>https://i.ytimg.com/vi/rHwDegptbI4/default.jpg</td>\n",
       "    </tr>\n",
       "  </tbody>\n",
       "</table>\n",
       "</div>"
      ],
      "text/plain": [
       "      video_id                                              title  \\\n",
       "0  Jw1Y-zhQURU      John Lewis Christmas Ad 2017 - #MozTheMonster   \n",
       "1  3s1rvMFUweQ          Taylor Swift: …Ready for It? (Live) - SNL   \n",
       "2  n1WpP7iowLc         Eminem - Walk On Water (Audio) ft. Beyoncé   \n",
       "3  PUTEiSjKwJU  Goals from Salford City vs Class of 92 and Fri...   \n",
       "4  rHwDegptbI4  Dashcam captures truck's near miss with child ...   \n",
       "\n",
       "                channel_title  category_id  \\\n",
       "0                  John Lewis           26   \n",
       "1         Saturday Night Live           24   \n",
       "2                  EminemVEVO           10   \n",
       "3  Salford City Football Club           17   \n",
       "4            Cute Girl Videos           25   \n",
       "\n",
       "                                                tags     views   likes  \\\n",
       "0  christmas|\"john lewis christmas\"|\"john lewis\"|...   7224515   55681   \n",
       "1  SNL|\"Saturday Night Live\"|\"SNL Season 43\"|\"Epi...   1053632   25561   \n",
       "2  Eminem|\"Walk\"|\"On\"|\"Water\"|\"Aftermath/Shady/In...  17158579  787420   \n",
       "3  Salford City FC|\"Salford City\"|\"Salford\"|\"Clas...     27833     193   \n",
       "4                                             [none]      9815      30   \n",
       "\n",
       "   dislikes  comment_count                                  thumbnail_link  \n",
       "0     10247           9479  https://i.ytimg.com/vi/Jw1Y-zhQURU/default.jpg  \n",
       "1      2294           2757  https://i.ytimg.com/vi/3s1rvMFUweQ/default.jpg  \n",
       "2     43420         125882  https://i.ytimg.com/vi/n1WpP7iowLc/default.jpg  \n",
       "3        12             37  https://i.ytimg.com/vi/PUTEiSjKwJU/default.jpg  \n",
       "4         2             30  https://i.ytimg.com/vi/rHwDegptbI4/default.jpg  "
      ]
     },
     "execution_count": 4,
     "metadata": {},
     "output_type": "execute_result"
    }
   ],
   "source": [
    "\n",
    "\n",
    "# remove duplicates for GB videos database\n",
    "gb_vid_df = gb_vid_df.drop_duplicates()\n",
    "us_vid_df = us_vid_df.drop_duplicates()\n",
    "\n",
    "gb_vid_df.head(5)"
   ]
  },
  {
   "cell_type": "code",
   "execution_count": 5,
   "metadata": {
    "_cell_guid": "a6366e4a-dd09-45b2-bb30-ac21d0f3bd0d",
    "_uuid": "fcd27925fc009ed201b576ab52ca386f4468e4b5"
   },
   "outputs": [],
   "source": [
    "# dataframe to see videos per each date\n",
    "def quick_insight(df, country, color):\n",
    "    # dataframes for videos per each date\n",
    "    vid_check = df[['video_id', 'date']].copy().groupby('date', as_index = False).count()\n",
    "    vid_check.columns = ['Dates', 'Videos per date']\n",
    "    \n",
    "    # dataframes for \n",
    "    dates_per_id = df[['video_id', 'date']].groupby('video_id', as_index = False).count()\n",
    "    dates_per_vids = dates_per_id.groupby('date', as_index = False).count()\n",
    "    dates_per_vids.columns = ['Quantity of dates per video', 'Quantity of videos in a date group']\n",
    "    max_days = max(dates_per_vids['Quantity of dates per video'].values)\n",
    "    \n",
    "    # videos appeared in database as at 13 September 2017\n",
    "    sept_13_id = df.loc[df['date'] == date(2017,9,13), 'video_id'].tolist()\n",
    "    sept_13 = df.loc[df['video_id'].isin(sept_13_id), ['video_id', 'date']]\n",
    "    sept_13 = sept_13.groupby('date', as_index=False).count()   \n",
    "    \n",
    "    # combined plot\n",
    "    fig = plt.figure(figsize=(14, 10))\n",
    "    gs = gridspec.GridSpec(3, 2, width_ratios=[1,1], height_ratios = [1,0.1,1])\n",
    "    \n",
    "    # plotting videos per each date\n",
    "    ax1 = plt.subplot(gs[2,0:2])\n",
    "    ax1 = sns.barplot(x=\"Dates\", y=\"Videos per date\", data=vid_check, color='green', alpha=0.8)\n",
    "    ax1.set_ylabel('Videos per date', fontsize=12)\n",
    "    ax1.set_xticklabels(vid_check['Dates'].unique(), rotation=45)\n",
    "    ax1.set_xlabel('')\n",
    "    ax1.set_title('Videos per each date ({})'.format(country), fontsize=15)\n",
    "    \n",
    "    # plotting buckets of videos by quantity of trending dates\n",
    "    ax2 = plt.subplot(gs[0,0])\n",
    "    ax2 = sns.barplot(x=\"Quantity of dates per video\",\n",
    "                      y=\"Quantity of videos in a date group\",\n",
    "                      data=dates_per_vids, color=color)\n",
    "    ax2.set_ylabel('Quantity of videos in a date group', fontsize=12)\n",
    "    ax2.set_xlabel('Quantity of trending days in a bucket', fontsize=12)\n",
    "    t_str = u'Buckets of videos by quantity of trending dates ({})'\n",
    "    title = '\\n'.join(wrap(t_str.format(country),30))\n",
    "    ax2.set_title(title, fontsize=15)\n",
    "    \n",
    "    # plotting story of videos that appeared on September 13\n",
    "    ax3 = plt.subplot(gs[0,1])    \n",
    "    ax3 = sns.barplot(x='date', y=\"video_id\", data=sept_13, color=color, alpha = 0.7)\n",
    "    ax3.set_ylabel('Quantity of videos per date', fontsize=12)\n",
    "    ax3.set_xticklabels(sept_13['date'], rotation=45)\n",
    "    ax3.set_xlabel('')\n",
    "    t_str = u'Videos started at 13 September ({})'\n",
    "    title = '\\n'.join(wrap(t_str.format(country),20))\n",
    "    ax3.set_title(title, fontsize=15)\n",
    "    \n",
    "    plt.show()"
   ]
  },
  {
   "cell_type": "code",
   "execution_count": 11,
   "metadata": {
    "_cell_guid": "2e630b96-3cc7-49c7-9ca8-673d74ef84dd",
    "_uuid": "6381239ace716650174d4651a9e214a039751606"
   },
   "outputs": [],
   "source": [
    "# function for channels analysis\n",
    "# days_a must be in range between day_start and day_end\n",
    "def channels_insight(df, country, day_start, day_end, days_a):\n",
    "    # list of selected dates\n",
    "    datelist = [day_start + timedelta(days=x) for x in range((day_end-day_start).days + 1)]\n",
    "    # take part of database that included in relevant period\n",
    "    df = df.copy().loc[df['date'].isin(datelist),]\n",
    "    # make list of channels survived for selected days_a\n",
    "    df_ch_days = df.groupby('channel_title')['date'].nunique().to_frame().reset_index()\n",
    "    df_ch_list = df_ch_days.loc[df_ch_days['date']==days_a, 'channel_title'].unique().tolist()\n",
    "    \n",
    "    # plotting videos per each channel (by views)\n",
    "    data = []\n",
    "    buttons = []\n",
    "    buttons_list = []\n",
    "    \n",
    "    for x in df_ch_list:\n",
    "        channel_videos = df.loc[df['channel_title'] == x,['title', 'date', 'views']]\n",
    "        videos_list = channel_videos['title'].unique().tolist()\n",
    "        boolean_list = [True] + [False]*(len(videos_list)-1)\n",
    "        color = 'rgb('+str(np.random.randint(1,256))+\",\"+str(np.random.randint(1,256))+\",\"+str(np.random.randint(1,256))+\")\"\n",
    "        for i in range(0,len(videos_list)):\n",
    "            vt = videos_list[i]\n",
    "            video = channel_videos.loc[channel_videos['title']==vt, ['views', 'date']]\n",
    "            trace = go.Scatter(x = video['date'].values,\n",
    "                               y = video['views'].values,\n",
    "                               name = x,\n",
    "                               line = dict(width = 2, color = color),\n",
    "                               legendgroup = x,\n",
    "                               showlegend = boolean_list[i])\n",
    "            buttons_list.append(x) # this list will help identify buttons visibility\n",
    "            data.extend([trace])\n",
    "    \n",
    "    for x in df_ch_list:       \n",
    "        buttons_upd = list([dict(label = x,\n",
    "                                method = 'update',\n",
    "                                args = [{'visible': [i==x for i in buttons_list]}])])\n",
    "        buttons.extend(buttons_upd)\n",
    "    \n",
    "    buttons_all = list([dict(label = 'All channels',\n",
    "                             method = 'update',\n",
    "                             args = [{'visible': [True for x in buttons_list]}])]) \n",
    "\n",
    "    buttons.extend(buttons_all)\n",
    "    \n",
    "    update_menus = list([dict(active=1,\n",
    "                              buttons = buttons,\n",
    "                              direction = 'down',\n",
    "                              pad = {'r': 10, 't': 10},\n",
    "                              showactive = True,\n",
    "                              x = 0.001,\n",
    "                              xanchor = 'left',\n",
    "                              y = 1.1,\n",
    "                              yanchor = 'top')])\n",
    "    \n",
    "    layout = dict(title = 'Videos of trending channels ({})'.format(country),\n",
    "                  xaxis = dict(title = ''),\n",
    "                  yaxis = dict(title = 'views'),\n",
    "                  updatemenus = update_menus,\n",
    "                  width=800, height=600, legend=dict(orientation=\"h\"))\n",
    "         \n",
    "    fig = dict(data = data, layout = layout)\n",
    "    \n",
    "    iplot(fig)"
   ]
  },
  {
   "cell_type": "code",
   "execution_count": 14,
   "metadata": {
    "_cell_guid": "c11a3654-b9d5-4729-b923-9122c8941acf",
    "_uuid": "f8837a6f56d816632e4d533f538ffe5bd62256b9"
   },
   "outputs": [
    {
     "data": {
      "text/html": [
       "<div>\n",
       "<style scoped>\n",
       "    .dataframe tbody tr th:only-of-type {\n",
       "        vertical-align: middle;\n",
       "    }\n",
       "\n",
       "    .dataframe tbody tr th {\n",
       "        vertical-align: top;\n",
       "    }\n",
       "\n",
       "    .dataframe thead th {\n",
       "        text-align: right;\n",
       "    }\n",
       "</style>\n",
       "<table border=\"1\" class=\"dataframe\">\n",
       "  <thead>\n",
       "    <tr style=\"text-align: right;\">\n",
       "      <th></th>\n",
       "      <th>video_id</th>\n",
       "      <th>title</th>\n",
       "      <th>channel_title</th>\n",
       "      <th>category_id</th>\n",
       "      <th>tags</th>\n",
       "      <th>views</th>\n",
       "      <th>likes</th>\n",
       "      <th>dislikes</th>\n",
       "      <th>comment_count</th>\n",
       "      <th>thumbnail_link</th>\n",
       "      <th>category_name</th>\n",
       "    </tr>\n",
       "  </thead>\n",
       "  <tbody>\n",
       "    <tr>\n",
       "      <th>0</th>\n",
       "      <td>Jw1Y-zhQURU</td>\n",
       "      <td>John Lewis Christmas Ad 2017 - #MozTheMonster</td>\n",
       "      <td>John Lewis</td>\n",
       "      <td>26</td>\n",
       "      <td>christmas|\"john lewis christmas\"|\"john lewis\"|...</td>\n",
       "      <td>7224515</td>\n",
       "      <td>55681</td>\n",
       "      <td>10247</td>\n",
       "      <td>9479</td>\n",
       "      <td>https://i.ytimg.com/vi/Jw1Y-zhQURU/default.jpg</td>\n",
       "      <td>Howto &amp; Style</td>\n",
       "    </tr>\n",
       "    <tr>\n",
       "      <th>1</th>\n",
       "      <td>3s1rvMFUweQ</td>\n",
       "      <td>Taylor Swift: …Ready for It? (Live) - SNL</td>\n",
       "      <td>Saturday Night Live</td>\n",
       "      <td>24</td>\n",
       "      <td>SNL|\"Saturday Night Live\"|\"SNL Season 43\"|\"Epi...</td>\n",
       "      <td>1053632</td>\n",
       "      <td>25561</td>\n",
       "      <td>2294</td>\n",
       "      <td>2757</td>\n",
       "      <td>https://i.ytimg.com/vi/3s1rvMFUweQ/default.jpg</td>\n",
       "      <td>Entertainment</td>\n",
       "    </tr>\n",
       "    <tr>\n",
       "      <th>2</th>\n",
       "      <td>n1WpP7iowLc</td>\n",
       "      <td>Eminem - Walk On Water (Audio) ft. Beyoncé</td>\n",
       "      <td>EminemVEVO</td>\n",
       "      <td>10</td>\n",
       "      <td>Eminem|\"Walk\"|\"On\"|\"Water\"|\"Aftermath/Shady/In...</td>\n",
       "      <td>17158579</td>\n",
       "      <td>787420</td>\n",
       "      <td>43420</td>\n",
       "      <td>125882</td>\n",
       "      <td>https://i.ytimg.com/vi/n1WpP7iowLc/default.jpg</td>\n",
       "      <td>Music</td>\n",
       "    </tr>\n",
       "    <tr>\n",
       "      <th>3</th>\n",
       "      <td>PUTEiSjKwJU</td>\n",
       "      <td>Goals from Salford City vs Class of 92 and Fri...</td>\n",
       "      <td>Salford City Football Club</td>\n",
       "      <td>17</td>\n",
       "      <td>Salford City FC|\"Salford City\"|\"Salford\"|\"Clas...</td>\n",
       "      <td>27833</td>\n",
       "      <td>193</td>\n",
       "      <td>12</td>\n",
       "      <td>37</td>\n",
       "      <td>https://i.ytimg.com/vi/PUTEiSjKwJU/default.jpg</td>\n",
       "      <td>Sports</td>\n",
       "    </tr>\n",
       "    <tr>\n",
       "      <th>4</th>\n",
       "      <td>rHwDegptbI4</td>\n",
       "      <td>Dashcam captures truck's near miss with child ...</td>\n",
       "      <td>Cute Girl Videos</td>\n",
       "      <td>25</td>\n",
       "      <td>[none]</td>\n",
       "      <td>9815</td>\n",
       "      <td>30</td>\n",
       "      <td>2</td>\n",
       "      <td>30</td>\n",
       "      <td>https://i.ytimg.com/vi/rHwDegptbI4/default.jpg</td>\n",
       "      <td>News &amp; Politics</td>\n",
       "    </tr>\n",
       "  </tbody>\n",
       "</table>\n",
       "</div>"
      ],
      "text/plain": [
       "      video_id                                              title  \\\n",
       "0  Jw1Y-zhQURU      John Lewis Christmas Ad 2017 - #MozTheMonster   \n",
       "1  3s1rvMFUweQ          Taylor Swift: …Ready for It? (Live) - SNL   \n",
       "2  n1WpP7iowLc         Eminem - Walk On Water (Audio) ft. Beyoncé   \n",
       "3  PUTEiSjKwJU  Goals from Salford City vs Class of 92 and Fri...   \n",
       "4  rHwDegptbI4  Dashcam captures truck's near miss with child ...   \n",
       "\n",
       "                channel_title  category_id  \\\n",
       "0                  John Lewis           26   \n",
       "1         Saturday Night Live           24   \n",
       "2                  EminemVEVO           10   \n",
       "3  Salford City Football Club           17   \n",
       "4            Cute Girl Videos           25   \n",
       "\n",
       "                                                tags     views   likes  \\\n",
       "0  christmas|\"john lewis christmas\"|\"john lewis\"|...   7224515   55681   \n",
       "1  SNL|\"Saturday Night Live\"|\"SNL Season 43\"|\"Epi...   1053632   25561   \n",
       "2  Eminem|\"Walk\"|\"On\"|\"Water\"|\"Aftermath/Shady/In...  17158579  787420   \n",
       "3  Salford City FC|\"Salford City\"|\"Salford\"|\"Clas...     27833     193   \n",
       "4                                             [none]      9815      30   \n",
       "\n",
       "   dislikes  comment_count                                  thumbnail_link  \\\n",
       "0     10247           9479  https://i.ytimg.com/vi/Jw1Y-zhQURU/default.jpg   \n",
       "1      2294           2757  https://i.ytimg.com/vi/3s1rvMFUweQ/default.jpg   \n",
       "2     43420         125882  https://i.ytimg.com/vi/n1WpP7iowLc/default.jpg   \n",
       "3        12             37  https://i.ytimg.com/vi/PUTEiSjKwJU/default.jpg   \n",
       "4         2             30  https://i.ytimg.com/vi/rHwDegptbI4/default.jpg   \n",
       "\n",
       "     category_name  \n",
       "0    Howto & Style  \n",
       "1    Entertainment  \n",
       "2            Music  \n",
       "3           Sports  \n",
       "4  News & Politics  "
      ]
     },
     "execution_count": 14,
     "metadata": {},
     "output_type": "execute_result"
    }
   ],
   "source": [
    "# dictionary for GB database\n",
    "with open('GB_category_id.json') as json_data:\n",
    "    gb_from_json = json.load(json_data)\n",
    "gb_prelim_dict = gb_from_json['items']\n",
    "json_data.close()\n",
    "\n",
    "gb_cat_dict = {}\n",
    "for i in range (0,len(gb_prelim_dict)):\n",
    "    cat_key = int(gb_prelim_dict[i]['id'])\n",
    "    cat_item = gb_prelim_dict[i]['snippet']['title']\n",
    "    gb_cat_dict[cat_key] = cat_item\n",
    "gb_cat_dict[29] = 'Schools & Hospitals'\n",
    "    \n",
    "# dictionary for US database\n",
    "with open('GB_category_id.json') as json_data:\n",
    "    us_from_json = json.load(json_data)\n",
    "us_prelim_dict = us_from_json['items']\n",
    "json_data.close()\n",
    "\n",
    "us_cat_dict = {}\n",
    "for i in range (0,len(us_prelim_dict)):\n",
    "    cat_key = int(us_prelim_dict[i]['id'])\n",
    "    cat_item = us_prelim_dict[i]['snippet']['title']\n",
    "    us_cat_dict[cat_key] = cat_item\n",
    "gb_cat_dict[29] = 'Schools & Hospitals'\n",
    "\n",
    "# addition of categories to both databases\n",
    "gb_vid_df['category_name'] = gb_vid_df['category_id'].apply(lambda x: gb_cat_dict[x])\n",
    "gb_vid_df.head(5)"
   ]
  },
  {
   "cell_type": "code",
   "execution_count": 15,
   "metadata": {
    "_cell_guid": "6c2b7355-970a-4cfa-91a8-5b4e5aea7ee3",
    "_uuid": "38161218b87a3afeaf6a5425bbbdec8b2a7b0e49"
   },
   "outputs": [],
   "source": [
    "gb_vid_df.rename(columns={'comment_total':'comments'}, inplace=True)\n",
    "us_vid_df.rename(columns={'comment_total':'comments'}, inplace=True)"
   ]
  },
  {
   "cell_type": "code",
   "execution_count": 16,
   "metadata": {
    "_cell_guid": "33b3553d-326e-49d5-a0c9-d9ad310453b8",
    "_uuid": "9731ac26dac8cad244abba594e40a8a828336359"
   },
   "outputs": [
    {
     "name": "stderr",
     "output_type": "stream",
     "text": [
      "/Users/ismayiltahmazov/opt/anaconda2/lib/python2.7/site-packages/pandas/core/indexing.py:1494: FutureWarning:\n",
      "\n",
      "\n",
      "Passing list-likes to .loc or [] with any missing label will raise\n",
      "KeyError in the future, you can use .reindex() as an alternative.\n",
      "\n",
      "See the documentation here:\n",
      "https://pandas.pydata.org/pandas-docs/stable/indexing.html#deprecate-loc-reindex-listlike\n",
      "\n"
     ]
    },
    {
     "data": {
      "image/png": "[encoded data removed]",
      "text/plain": [
       "<Figure size 1008x360 with 4 Axes>"
      ]
     },
     "metadata": {
      "needs_background": "light"
     },
     "output_type": "display_data"
    }
   ],
   "source": [
    "corr_gb = gb_vid_df.loc[:,['views', 'likes', 'dislikes', 'comments']].corr()\n",
    "corr_us = us_vid_df.loc[:,['views', 'likes', 'dislikes', 'comments']].corr()\n",
    "\n",
    "mask = np.zeros_like(corr_gb, dtype=np.bool)\n",
    "mask[np.triu_indices_from(mask)] = True\n",
    "\n",
    "fig = plt.figure(figsize=(14, 5))\n",
    "gs = gridspec.GridSpec(1, 2, width_ratios=[1,1])\n",
    "cmap = sns.diverging_palette(220, 10, as_cmap=True)\n",
    "\n",
    "ax1 = plt.subplot(gs[0,0])\n",
    "ax1 = sns.heatmap(corr_gb, cmap=cmap, vmax=1, center=0.5,\n",
    "            square=True, linewidths=.5, mask=mask)\n",
    "ax1.set_title('Correlation matrix (GB)', fontsize=20)\n",
    "plt.yticks(rotation=0)\n",
    "\n",
    "ax2 = plt.subplot(gs[0,1])\n",
    "ax1 = sns.heatmap(corr_us, cmap=cmap, vmax=1, center=0.5,\n",
    "                  square=True, linewidths=.5, mask=mask)\n",
    "ax2.set_title('Correlation matrix (US)', fontsize=20)\n",
    "plt.yticks(rotation=0)\n",
    "\n",
    "plt.show()"
   ]
  },
  {
   "cell_type": "code",
   "execution_count": 17,
   "metadata": {
    "_cell_guid": "362e19bd-df5c-4131-93d2-36d9218c34d9",
    "_uuid": "bc6236e25bbba11fbd20e369d420a27f7fa7f17a"
   },
   "outputs": [],
   "source": [
    "def vldc_plot(df_init, country):\n",
    "    df = df_init[['date','views', 'likes',\n",
    "             'dislikes','comments']].groupby('date', as_index = False).sum()\n",
    "    df[['views','likes', 'dislikes','comments']] = df[['views', 'likes',\n",
    "                                                       'dislikes', 'comments']].apply(lambda x: x/1000000)\n",
    "    fig = plt.figure(figsize=(12, 5))\n",
    "    gs = gridspec.GridSpec(2, 2, width_ratios=[1,1])\n",
    "\n",
    "    ax1 = plt.subplot(gs[0,0])\n",
    "    ax1.plot(df['date'], df['views'])\n",
    "    ax1.set_xticklabels(\"\")\n",
    "    ax1.set_title('Views, mln', fontsize=20)\n",
    "\n",
    "    ax2 = plt.subplot(gs[0,1])\n",
    "    ax2.plot(df['date'], df['comments'])\n",
    "    ax2.set_xticklabels(\"\")\n",
    "    ax2.set_title('Comments, mln', fontsize=20)\n",
    "\n",
    "    ax3 = plt.subplot(gs[1,0])\n",
    "    ax3.plot(df['date'], df['likes'])\n",
    "    ax3.set_xticks(df['date'].values)\n",
    "    ax3.set_xticklabels(df['date'], rotation=45)\n",
    "    ax3.set_title('Likes, mln', fontsize=20)\n",
    "\n",
    "    ax4 = plt.subplot(gs[1,1])\n",
    "    ax4.plot(df['date'], df['dislikes'])\n",
    "    ax4.set_xticks(df['date'].values)\n",
    "    ax4.set_xticklabels(df['date'], rotation=45)\n",
    "    ax4.set_title('Dislikes, mln', fontsize=20)\n",
    "\n",
    "    plt.suptitle('{} segment'.format(country), fontsize=22)\n",
    "\n",
    "    plt.show()"
   ]
  },
  {
   "cell_type": "markdown",
   "metadata": {
    "_cell_guid": "56806c0a-c9c7-4920-8069-280f7eff42a0",
    "_uuid": "cb9e470fb5fa64a6a1027eeff8f22d93ae5eec9f"
   },
   "source": [
    "The first step is to convert tags from string to list of strings."
   ]
  },
  {
   "cell_type": "code",
   "execution_count": 20,
   "metadata": {
    "_cell_guid": "57ca8f8f-50cb-40ac-acd3-55c24c60a31d",
    "_uuid": "e368451cb03728b1c76cf83d0e32d07ce8db2822"
   },
   "outputs": [],
   "source": [
    "gb_vid_df['tags'] = gb_vid_df['tags'].map(lambda x: x.split('|'))\n",
    "us_vid_df['tags'] = us_vid_df['tags'].map(lambda x: x.split('|'))"
   ]
  },
  {
   "cell_type": "markdown",
   "metadata": {
    "_cell_guid": "2e8fa993-f7c7-402b-95e0-ac47fa8b17fe",
    "_uuid": "145f87f5f87de5fdcf8653dcb4f5a135b6843b01"
   },
   "source": [
    "There are few rows that have more collumns than they should. Due to insignificant amount it is safe to exclude them."
   ]
  },
  {
   "cell_type": "code",
   "execution_count": 22,
   "metadata": {
    "_cell_guid": "986508ad-1767-485a-b767-561ef28342fe",
    "_uuid": "331a2a3ca1506a51774c85fced33a26e9abb9cae"
   },
   "outputs": [
    {
     "name": "stderr",
     "output_type": "stream",
     "text": [
      "Skipping line 113225: expected 4 fields, saw 5\n",
      "\n",
      "Skipping line 158379: expected 4 fields, saw 7\n",
      "Skipping line 241590: expected 4 fields, saw 5\n",
      "Skipping line 245637: expected 4 fields, saw 7\n",
      "\n",
      "Skipping line 521402: expected 4 fields, saw 5\n",
      "\n",
      "Skipping line 41589: expected 4 fields, saw 11\n",
      "Skipping line 51628: expected 4 fields, saw 7\n",
      "Skipping line 114465: expected 4 fields, saw 5\n",
      "\n",
      "Skipping line 142496: expected 4 fields, saw 8\n",
      "Skipping line 189732: expected 4 fields, saw 6\n",
      "Skipping line 245218: expected 4 fields, saw 7\n",
      "\n",
      "Skipping line 388430: expected 4 fields, saw 5\n",
      "\n",
      "/Users/ismayiltahmazov/opt/anaconda2/lib/python2.7/site-packages/IPython/core/interactiveshell.py:2714: DtypeWarning:\n",
      "\n",
      "Columns (2,3) have mixed types. Specify dtype option on import or set low_memory=False.\n",
      "\n"
     ]
    }
   ],
   "source": [
    "# downloading the data and skip bad rows\n",
    "gb_comm_df =  pd.read_csv(\"GBcomments.csv\", error_bad_lines = False)\n",
    "us_comm_df =  pd.read_csv(\"UScomments.csv\", error_bad_lines = False)"
   ]
  },
  {
   "cell_type": "code",
   "execution_count": 24,
   "metadata": {
    "_cell_guid": "550987a2-171b-48e1-b4a5-d36188c27c7b",
    "_uuid": "ee28f10888f036f8fc109a938041b5d61899bd18"
   },
   "outputs": [
    {
     "ename": "TypeError",
     "evalue": "object of type 'float' has no len()",
     "output_type": "error",
     "traceback": [
      "\u001b[0;31m---------------------------------------------------------------------------\u001b[0m",
      "\u001b[0;31mTypeError\u001b[0m                                 Traceback (most recent call last)",
      "\u001b[0;32m<ipython-input-24-7cb5057d3e23>\u001b[0m in \u001b[0;36m<module>\u001b[0;34m()\u001b[0m\n\u001b[1;32m     15\u001b[0m                                                                'title']], on = 'video_id')\n\u001b[1;32m     16\u001b[0m \u001b[0;31m# make additional column for number of tags\u001b[0m\u001b[0;34m\u001b[0m\u001b[0;34m\u001b[0m\u001b[0m\n\u001b[0;32m---> 17\u001b[0;31m \u001b[0mall_comm_df\u001b[0m\u001b[0;34m[\u001b[0m\u001b[0;34m'num_tags'\u001b[0m\u001b[0;34m]\u001b[0m \u001b[0;34m=\u001b[0m \u001b[0mall_comm_df\u001b[0m\u001b[0;34m[\u001b[0m\u001b[0;34m'tags'\u001b[0m\u001b[0;34m]\u001b[0m\u001b[0;34m.\u001b[0m\u001b[0mapply\u001b[0m\u001b[0;34m(\u001b[0m\u001b[0;32mlambda\u001b[0m \u001b[0mx\u001b[0m\u001b[0;34m:\u001b[0m \u001b[0mlen\u001b[0m\u001b[0;34m(\u001b[0m\u001b[0mx\u001b[0m\u001b[0;34m)\u001b[0m\u001b[0;34m)\u001b[0m\u001b[0;34m\u001b[0m\u001b[0m\n\u001b[0m\u001b[1;32m     18\u001b[0m \u001b[0mall_comm_df\u001b[0m\u001b[0;34m.\u001b[0m\u001b[0mshape\u001b[0m\u001b[0;34m\u001b[0m\u001b[0m\n",
      "\u001b[0;32m/Users/ismayiltahmazov/opt/anaconda2/lib/python2.7/site-packages/pandas/core/series.pyc\u001b[0m in \u001b[0;36mapply\u001b[0;34m(self, func, convert_dtype, args, **kwds)\u001b[0m\n\u001b[1;32m   3589\u001b[0m             \u001b[0;32melse\u001b[0m\u001b[0;34m:\u001b[0m\u001b[0;34m\u001b[0m\u001b[0m\n\u001b[1;32m   3590\u001b[0m                 \u001b[0mvalues\u001b[0m \u001b[0;34m=\u001b[0m \u001b[0mself\u001b[0m\u001b[0;34m.\u001b[0m\u001b[0mastype\u001b[0m\u001b[0;34m(\u001b[0m\u001b[0mobject\u001b[0m\u001b[0;34m)\u001b[0m\u001b[0;34m.\u001b[0m\u001b[0mvalues\u001b[0m\u001b[0;34m\u001b[0m\u001b[0m\n\u001b[0;32m-> 3591\u001b[0;31m                 \u001b[0mmapped\u001b[0m \u001b[0;34m=\u001b[0m \u001b[0mlib\u001b[0m\u001b[0;34m.\u001b[0m\u001b[0mmap_infer\u001b[0m\u001b[0;34m(\u001b[0m\u001b[0mvalues\u001b[0m\u001b[0;34m,\u001b[0m \u001b[0mf\u001b[0m\u001b[0;34m,\u001b[0m \u001b[0mconvert\u001b[0m\u001b[0;34m=\u001b[0m\u001b[0mconvert_dtype\u001b[0m\u001b[0;34m)\u001b[0m\u001b[0;34m\u001b[0m\u001b[0m\n\u001b[0m\u001b[1;32m   3592\u001b[0m \u001b[0;34m\u001b[0m\u001b[0m\n\u001b[1;32m   3593\u001b[0m         \u001b[0;32mif\u001b[0m \u001b[0mlen\u001b[0m\u001b[0;34m(\u001b[0m\u001b[0mmapped\u001b[0m\u001b[0;34m)\u001b[0m \u001b[0;32mand\u001b[0m \u001b[0misinstance\u001b[0m\u001b[0;34m(\u001b[0m\u001b[0mmapped\u001b[0m\u001b[0;34m[\u001b[0m\u001b[0;36m0\u001b[0m\u001b[0;34m]\u001b[0m\u001b[0;34m,\u001b[0m \u001b[0mSeries\u001b[0m\u001b[0;34m)\u001b[0m\u001b[0;34m:\u001b[0m\u001b[0;34m\u001b[0m\u001b[0m\n",
      "\u001b[0;32mpandas/_libs/lib.pyx\u001b[0m in \u001b[0;36mpandas._libs.lib.map_infer\u001b[0;34m()\u001b[0m\n",
      "\u001b[0;32m<ipython-input-24-7cb5057d3e23>\u001b[0m in \u001b[0;36m<lambda>\u001b[0;34m(x)\u001b[0m\n\u001b[1;32m     15\u001b[0m                                                                'title']], on = 'video_id')\n\u001b[1;32m     16\u001b[0m \u001b[0;31m# make additional column for number of tags\u001b[0m\u001b[0;34m\u001b[0m\u001b[0;34m\u001b[0m\u001b[0m\n\u001b[0;32m---> 17\u001b[0;31m \u001b[0mall_comm_df\u001b[0m\u001b[0;34m[\u001b[0m\u001b[0;34m'num_tags'\u001b[0m\u001b[0;34m]\u001b[0m \u001b[0;34m=\u001b[0m \u001b[0mall_comm_df\u001b[0m\u001b[0;34m[\u001b[0m\u001b[0;34m'tags'\u001b[0m\u001b[0;34m]\u001b[0m\u001b[0;34m.\u001b[0m\u001b[0mapply\u001b[0m\u001b[0;34m(\u001b[0m\u001b[0;32mlambda\u001b[0m \u001b[0mx\u001b[0m\u001b[0;34m:\u001b[0m \u001b[0mlen\u001b[0m\u001b[0;34m(\u001b[0m\u001b[0mx\u001b[0m\u001b[0;34m)\u001b[0m\u001b[0;34m)\u001b[0m\u001b[0;34m\u001b[0m\u001b[0m\n\u001b[0m\u001b[1;32m     18\u001b[0m \u001b[0mall_comm_df\u001b[0m\u001b[0;34m.\u001b[0m\u001b[0mshape\u001b[0m\u001b[0;34m\u001b[0m\u001b[0m\n",
      "\u001b[0;31mTypeError\u001b[0m: object of type 'float' has no len()"
     ]
    }
   ],
   "source": [
    "# combined database on videos features (will be used for vlookup only)\n",
    "all_vid_df = gb_vid_df.append(us_vid_df)\n",
    "\n",
    "# leave only most recent date for each video\n",
    "all_vid_df.drop_duplicates('video_id', keep = 'first', inplace = True)\n",
    "\n",
    "\n",
    "# combined database for comments\n",
    "all_comm_df = gb_comm_df.append(us_comm_df)\n",
    "# duplicates should be deleted\n",
    "all_comm_df.drop_duplicates(['video_id', 'comment_text'], keep = 'first', inplace = True)\n",
    "\n",
    "all_comm_df = all_comm_df.join(all_vid_df.set_index('video_id')[['tags',\n",
    "                                                               'channel_title',\n",
    "                                                               'title']], on = 'video_id')\n",
    "# make additional column for number of tags\n",
    "all_comm_df['num_tags'] = all_comm_df['tags'].apply(lambda x: len(x))\n",
    "all_comm_df.shape"
   ]
  },
  {
   "cell_type": "markdown",
   "metadata": {
    "_cell_guid": "273dbac7-5142-4e07-a994-e0921ae923f8",
    "_uuid": "51a18a68f8e9c6218b7d9dff6214ae43b92a6079"
   },
   "source": [
    "To make predictions I need to get rid of different artifacts (html characters and emojis) and exclude non-ASCII characters. Following functions should help with this task: "
   ]
  },
  {
   "cell_type": "code",
   "execution_count": null,
   "metadata": {
    "_cell_guid": "e9345659-7a17-4671-9937-f1376676624e",
    "_uuid": "1d81f70e1d41f01e56aa133e8a76c04aa11f2499"
   },
   "outputs": [],
   "source": [
    "# function for cleaning urls\n",
    "def remove_urls(x):\n",
    "    return re.sub(r\"http\\S+\", \"\", x)"
   ]
  },
  {
   "cell_type": "code",
   "execution_count": null,
   "metadata": {
    "_cell_guid": "7f928aeb-9e15-4d67-a3e6-4e3f3ce56e70",
    "_uuid": "e31c7ff61edf0d9bfbe4217cf89d259165a115c5"
   },
   "outputs": [],
   "source": [
    "# function for cleaning text of html tags and uris\n",
    "\n",
    "# thanks to https://www.kaggle.com/l3nnys/useful-text-preprocessing-on-the-datasets\n",
    "uri_re = r'(?i)\\b((?:https?://|www\\d{0,3}[.]|[a-z0-9.\\-]+[.][a-z]{2,4}/)(?:[^\\s()<>]+|\\(([^\\s()<>]+|(\\([^\\s()<>]+\\)))*\\))+(?:\\(([^\\s()<>]+|(\\([^\\s()<>]+\\)))*\\)|[^\\s`!()\\[\\]{};:\\'\".,<>?«»“”‘’]))'\n",
    "\n",
    "def stripTagsAndUris(x):\n",
    "    # BeautifulSoup on content\n",
    "    soup = BeautifulSoup(x, \"html.parser\")\n",
    "    # Stripping all <code> tags with their content if any\n",
    "    if soup.code:\n",
    "        soup.code.decompose()\n",
    "    # Get all the text out of the html\n",
    "    text =  soup.get_text()\n",
    "    # Returning text stripping out all uris\n",
    "    return re.sub(uri_re, \"\", text)"
   ]
  },
  {
   "cell_type": "code",
   "execution_count": null,
   "metadata": {
    "_cell_guid": "e6143ab1-7f74-4904-adf0-6782e3653729",
    "_uuid": "6b7dfe2d2ec531fbefee0687fe2942680aa3945e"
   },
   "outputs": [],
   "source": [
    "# emoji pattern (https://stackoverflow.com/questions/33404752/removing-emojis-from-a-string-in-python)\n",
    "emoji_pattern = re.compile(\"[\"\n",
    "        u\"\\U0001F600-\\U0001F64F\"  # emoticons\n",
    "        u\"\\U0001F300-\\U0001F5FF\"  # symbols & pictographs\n",
    "        u\"\\U0001F680-\\U0001F6FF\"  # transport & map symbols\n",
    "        u\"\\U0001F1E0-\\U0001F1FF\"  # flags (iOS)\n",
    "                           \"]+\", flags=re.UNICODE)\n",
    "\n",
    "# function for removal of non-ASCII characters and emoji\n",
    "def exASCII(x):\n",
    "    # Lowercasing all words\n",
    "    x = x.lower()\n",
    "    # Removing non ASCII chars\n",
    "    ex_ascii = re.sub(r'[^\\x00-\\x7f]',r'',x)\n",
    "    # remove emoji\n",
    "    return emoji_pattern.sub(r'', ex_ascii)"
   ]
  },
  {
   "cell_type": "code",
   "execution_count": null,
   "metadata": {
    "_cell_guid": "0fd88a13-46e2-4d88-8e42-b4d522f5de57",
    "_uuid": "d38eb6e80e05589619a6c6551945b77196ad9677"
   },
   "outputs": [],
   "source": [
    "# replace trippled+ characters\n",
    "# https://stackoverflow.com/questions/43110237/replace-consecutive-repeated-characters-with-one-column-wise-operation-pand\n",
    "def trim_trippled(x):\n",
    "    min_threshold_rep = 3\n",
    "    return re.sub(r'(.)\\1{%d,}'%(min_threshold_rep-1), r'\\1',x)"
   ]
  },
  {
   "cell_type": "code",
   "execution_count": null,
   "metadata": {
    "_cell_guid": "b1621631-2637-40a5-90ef-852586d3cc78",
    "_uuid": "c17ba4f0dec92d89e382bb3ece0e6c3570557799"
   },
   "outputs": [],
   "source": [
    "# change shorcuts to full words, replace remains of unwanted characters\n",
    "# thanks to https://www.analyticsvidhya.com/blog/2014/11/text-data-cleaning-steps-python/\n",
    "apts = {\"'s\": \" is\",\n",
    "        \"'ll\": \" will\",\n",
    "        \"'re\": \" are\",\n",
    "        \"'d\": \" would\",\n",
    "        \"'t\": \" not\",\n",
    "        \"'m\": \" am\",\n",
    "        \"'ve\": \" have\",\n",
    "        \"&\": \" and \",\n",
    "        \"\\*\": \" \",\n",
    "        r'\\\\n': \" \",\n",
    "        '[%_=>#\"(--)\\)\\(:\\^~\\<( - )( / )([\\\\\\/\\])]': \" \",\n",
    "        \"[^(\\d]\\d+\\)\": \" \",\n",
    "        \"([\\d|\\d\\d]):([\\d|\\d\\d])(:([\\d|\\d\\d]))?\": \" \"}\n",
    "\n",
    "# exclude double spaces left after previous step\n",
    "rem = {'  +': ' '}\n",
    "\n",
    "def ex_apts_rem(x):\n",
    "    for i in apts:\n",
    "        x = re.sub(i, apts[i], x)\n",
    "    for i in rem:\n",
    "        x = re.sub(i, rem[i], x)\n",
    "    return x"
   ]
  },
  {
   "cell_type": "code",
   "execution_count": null,
   "metadata": {
    "_cell_guid": "c0e6ccb0-485e-42c6-b690-72f22d60b1a8",
    "_uuid": "261fc7eb3754ad115a6864e48431b38b0f7859ec"
   },
   "outputs": [],
   "source": [
    "# leave only those words that correspond to selected parts of speech\n",
    "def nlp_filter(x):\n",
    "    tokens = nlp(x)\n",
    "    tags = []\n",
    "    list_of_tags = ['CD','FW','JJ','JJR','JJS','NN','NNP','NNPS','NNS','RB','RBR','RBS']\n",
    "    for token in tokens:\n",
    "        tags.append((token.lemma_, token.tag_))\n",
    "    filtered_list = [(n,y) for (n,y) in tags if y in list_of_tags]\n",
    "    x = \" \".join([n for (n,y) in filtered_list])\n",
    "    return x"
   ]
  },
  {
   "cell_type": "code",
   "execution_count": null,
   "metadata": {
    "_cell_guid": "c83659ab-c985-4e78-8b84-16ef8af51ef1",
    "_uuid": "be2e3e16b8986a0d71cb640d9026f81ea817514b"
   },
   "outputs": [],
   "source": [
    "# function that embraces all previous text preparation process\n",
    "def preprocess_functions(x):\n",
    "    return (ex_apts_rem(trim_trippled(exASCII(stripTagsAndUris(remove_urls(x))))))"
   ]
  },
  {
   "cell_type": "code",
   "execution_count": null,
   "metadata": {
    "_cell_guid": "bb3b265e-afa0-455c-b723-cd7bb868b4c2",
    "_uuid": "72ca919a38a75e5e7843305de8c5e4e0f534d1ed"
   },
   "outputs": [],
   "source": [
    "# prepare comments section\n",
    "comments_df = all_comm_df.copy()\n",
    "comments_df['comment_text'] = comments_df['comment_text'].apply(str)\n",
    "comments_df['comment_text_proc'] = comments_df['comment_text'].apply(lambda x: preprocess_functions(str(x)))"
   ]
  },
  {
   "cell_type": "code",
   "execution_count": null,
   "metadata": {
    "_cell_guid": "40ea02a4-23a4-4f45-8a7b-962783820627",
    "_uuid": "334c18462887088c09b4041e46840042918c6fe8"
   },
   "outputs": [],
   "source": [
    "# create comments column where emojis are excluded but other non-ASCII characters are preserved\n",
    "comments_df['no_emo_comments'] = comments_df['comment_text'].apply(lambda x: emoji_pattern.sub('r', x))\n",
    "\n",
    "# videos where most of the comments made with non-ASCII characters\n",
    "vid_list = comments_df['video_id'].unique()\n",
    "vid_list_nonASCII = []\n",
    "for i in vid_list:\n",
    "    temp_df = comments_df.loc[comments_df['video_id'] == i, ]\n",
    "    nonASCII = temp_df['no_emo_comments'].str.contains('[^\\x00-\\x7f]').sum() # number of comment with non-ASCII characters\n",
    "    all_com = temp_df['no_emo_comments'].count() # total number of comments\n",
    "    if (nonASCII/all_com) > 0.5:\n",
    "        vid_list_nonASCII.append(i)\n",
    "\n",
    "vid_list_few_comments = []\n",
    "for i in vid_list:\n",
    "    temp_df = comments_df.loc[comments_df['video_id'] == i, ]\n",
    "    if (temp_df['video_id'].count()) < 10:\n",
    "        vid_list_few_comments.append(i)\n",
    "\n",
    "del temp_df"
   ]
  },
  {
   "cell_type": "code",
   "execution_count": null,
   "metadata": {
    "_cell_guid": "e9412b11-0e43-4021-bc05-5a2aac0f6eca",
    "_uuid": "5bce92773f542bfd9bcc21a7082798a77db1e21b"
   },
   "outputs": [],
   "source": [
    "# exclude videos selected in previous step\n",
    "vid_list_prunned = [x for x in vid_list if x not in vid_list_nonASCII]\n",
    "vid_list_prunned = [x for x in vid_list_prunned if x not in vid_list_few_comments]"
   ]
  },
  {
   "cell_type": "code",
   "execution_count": null,
   "metadata": {
    "_cell_guid": "45d10e74-94c9-4d0d-b1e1-60c93d74924b",
    "_uuid": "dedfec1ee5abda6b70f21fde8f80d695ac6d2ad5"
   },
   "outputs": [],
   "source": [
    "# tags predictions\n",
    "tags_list = []\n",
    "for i in vid_list_prunned:\n",
    "    temp_df = comments_df.loc[comments_df['video_id'] == i, ]\n",
    "    n_tags = len(temp_df['tags'].values[0])\n",
    "    max_ngram = max([len(n.split()) for n in temp_df['tags'].values[0]])\n",
    "    tfidf = TfidfVectorizer(min_df = 0.03,\n",
    "                            max_features = 10000,\n",
    "                            analyzer = 'word', \n",
    "                            token_pattern = r'\\w+',\n",
    "                            ngram_range = (1, min(max_ngram,3)), # limit n-grams by 3 words max\n",
    "                            use_idf = True,\n",
    "                            smooth_idf = True,\n",
    "                            sublinear_tf = True,\n",
    "                            stop_words = 'english')\n",
    "    tfidf_matrix = tfidf.fit_transform(temp_df['comment_text_proc'].values)\n",
    "    tags_array = np.array(tfidf.get_feature_names())\n",
    "    tags_sorted = np.argsort(tfidf_matrix.toarray()).flatten()[::-1]\n",
    "    sel = tags_sorted[:n_tags]\n",
    "    selected_tags = tags_array[sel]\n",
    "    tags_list.append(selected_tags.tolist())\n",
    "print (\"Prediction is done.\")"
   ]
  },
  {
   "cell_type": "code",
   "execution_count": null,
   "metadata": {
    "_cell_guid": "ed9e8ec2-a83d-4607-8507-7f6ed17a5d5f",
    "_uuid": "a75f2a5d2f43aa73db6c9dd8d5943b07573207c8"
   },
   "outputs": [],
   "source": [
    "# add predicted tags to comments dataframe\n",
    "tags_df = pd.DataFrame({\"video_id\": vid_list_prunned, \"tags_pred\": tags_list})\n",
    "comments_df_selected = comments_df.copy().loc[comments_df['video_id'].isin(vid_list_prunned),]\n",
    "comments_df_selected = comments_df_selected.merge(tags_df, how = \"left\", left_on = \"video_id\", right_on = \"video_id\")\n",
    "comments_df_selected.head(3)"
   ]
  },
  {
   "cell_type": "markdown",
   "metadata": {
    "_cell_guid": "b69c1a11-b89f-469f-983e-581518211e11",
    "_uuid": "7b21835a0f1e3705a587733e8aa461834222ba4f"
   },
   "source": [
    "Now it is time to check prediction quality. To do this I took 5 randomly selected videos and printed title, tags and predicted tags per each video."
   ]
  },
  {
   "cell_type": "code",
   "execution_count": null,
   "metadata": {
    "_cell_guid": "6eaacbdf-e8b6-4929-a20a-5fdada0a444c",
    "_uuid": "c7fc405d59e37426641107725e6c748480b03856"
   },
   "outputs": [],
   "source": [
    "check_list = random.sample(vid_list_prunned,5)\n",
    "print (check_list)\n",
    "for i in check_list:\n",
    "    temp_df = comments_df_selected.loc[comments_df_selected['video_id'] == i, ]\n",
    "    print (\"\\nVideo title:\")\n",
    "    print (temp_df['title'].values[0])\n",
    "    print (\"\\nGround truth tags:\")\n",
    "    print (temp_df['tags'].values[0])\n",
    "    print (\"\\nPredicted tags:\")\n",
    "    print (temp_df['tags_pred'].values[0])\n",
    "    print (\"--------------------\")"
   ]
  },
  {
   "cell_type": "markdown",
   "metadata": {
    "_cell_guid": "257025be-e63c-4050-be08-9532863af9a0",
    "_uuid": "710a381657c069a276384a0e7372a288020145ba"
   },
   "source": [
    "Predicted tags are far from being precise and there are few reasons why it happens:\n",
    "1. Video creators make many tags to ensure that video will be found by YouTube search engine. It includes adding common misspells and words permutation.\n",
    "2. Discussion in comments can shift away from the video topic. Also comments may have little sense. The interesting option is to use only comments with big amount of likes but they are not always available per each video.\n",
    "3. The method is very susceptible to min_df parameters. Results were better with its higher value, but not all videos have enough comments to support higher values.\n",
    "\n",
    "Despite these drawbacks this method provides some grasp on video topic. Also It shows good insight into discussion tone. I must admit that I've made few runs of random search to get 5 examples without offensive language."
   ]
  },
  {
   "cell_type": "code",
   "execution_count": null,
   "metadata": {
    "_cell_guid": "b449682a-b980-4b2e-8343-0a7b8bb3a4d6",
    "_uuid": "d6b3f0aff0b139ac8c45c7d8aa1af2892999703d"
   },
   "outputs": [],
   "source": [
    "# prepare emojis list\n",
    "all_comm_df['emoji'] = all_comm_df['comment_text'].apply(lambda x: re.findall(emoji_pattern, str(x)))\n",
    "all_comm_df['emoji'] = all_comm_df['emoji'].apply(lambda x: [i for sublist in x for i in sublist])\n",
    "emo_list = all_comm_df['emoji'].values.tolist()\n",
    "emo_list_flatten = [i for sublist in emo_list for i in sublist]\n",
    "\n",
    "# only unique values from the list\n",
    "emo_unique = list(set(emo_list_flatten))\n",
    "emo_all = \" \".join(emo_list_flatten)"
   ]
  },
  {
   "cell_type": "code",
   "execution_count": null,
   "metadata": {
    "_cell_guid": "05b7aa43-74b2-442b-a93e-3df866d77129",
    "_uuid": "5e7ba8c3845c21d3b238ca35f93c0e81ecaf6a4c"
   },
   "outputs": [],
   "source": [
    "# dictionary for emoji frequency\n",
    "emo_dict = {}\n",
    "for i in emo_unique:\n",
    "    emo_dict[i] = len(re.findall(i, emo_all))"
   ]
  },
  {
   "cell_type": "code",
   "execution_count": null,
   "metadata": {
    "_cell_guid": "4ab45a84-ab7f-4769-b6c6-1c1bc53960ab",
    "_uuid": "324b3fa012815b455e6d05f072d09964d171f480"
   },
   "outputs": [],
   "source": [
    "# top 15 emoji with Plotly\n",
    "emo_df = pd.DataFrame.from_dict(emo_dict, orient = 'index')\n",
    "emo_df = emo_df.reset_index()\n",
    "emo_df.columns = [\"emoji\", 'frequency']\n",
    "emo_df.sort_values('frequency', ascending = False, inplace = True)\n",
    "emo_df_top15 = emo_df.head(15).copy()\n",
    "emo_df_top15.sort_values('frequency', ascending = True, inplace = True)\n",
    "\n",
    "# plot\n",
    "data = [go.Bar(x = emo_df_top15['frequency'],\n",
    "               y = emo_df_top15['emoji'],\n",
    "               orientation = 'h',\n",
    "               marker = dict(color = 'rgba(200, 100, 1, 0.6)',\n",
    "                             line = dict(color = 'rgba(50, 171, 96, 1.0)',\n",
    "                                         width = 1)))]\n",
    "\n",
    "layout = dict(title = '15 most frequent emojis')\n",
    "fig = dict(data = data, layout = layout)\n",
    "iplot(fig, filename='basic-bar')"
   ]
  }
 ],
 "metadata": {
  "kernelspec": {
   "display_name": "Python 3",
   "language": "python",
   "name": "python3"
  },
  "language_info": {
   "codemirror_mode": {
    "name": "ipython",
    "version": 3
   },
   "file_extension": ".py",
   "mimetype": "text/x-python",
   "name": "python",
   "nbconvert_exporter": "python",
   "pygments_lexer": "ipython3",
   "version": "3.7.6"
  }
 },
 "nbformat": 4,
 "nbformat_minor": 1
}
