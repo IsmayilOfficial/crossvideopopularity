{
 "cells": [
  {
   "cell_type": "code",
   "execution_count": 1,
   "metadata": {},
   "outputs": [],
   "source": [
    "import numpy as np\n",
    "import seaborn as sns\n",
    "import pandas as pd\n",
    "\n",
    "import matplotlib.pyplot as plt\n",
    "import matplotlib.colors as colors\n",
    "import datetime as dt\n",
    "import math\n",
    "\n",
    "import warnings\n",
    "warnings.filterwarnings('ignore')\n",
    "\n",
    "\n",
    "ca_categories = pd.read_json('FR_category_id.json')\n",
    "\n",
    "ca_videos = pd.read_csv('FRvideos.csv'\n",
    "                        , error_bad_lines=False\n",
    "                        #,encoding='latin1' \n",
    "                        \n",
    "                       \n",
    "                       )\n"
   ]
  },
  {
   "cell_type": "code",
   "execution_count": 2,
   "metadata": {},
   "outputs": [],
   "source": [
    "ca_videos['description_length'] =ca_videos['description'].str.len()\n",
    "\n",
    "ca_videos['description_length'].describe(percentiles=[.50,.100,.200,.250,.300, .400])\n",
    "\n",
    "# x contained NaN\n",
    "ca_videos = ca_videos[~ca_videos['description_length'].isnull()]\n",
    "\n",
    "# Y contained some other garbage, so null check was not enough\n",
    "#df = df[df['y'].str.isnumeric()]\n",
    "\n",
    "# final conversion now worked\n",
    "#df[['x']] = df[['x']].astype(int)\n",
    "#df[['y']] = df[['y']].astype(int)"
   ]
  },
  {
   "cell_type": "code",
   "execution_count": 3,
   "metadata": {},
   "outputs": [
    {
     "data": {
      "image/png": "[encoded data removed]",
      "text/plain": [
       "<Figure size 432x288 with 1 Axes>"
      ]
     },
     "metadata": {
      "needs_background": "light"
     },
     "output_type": "display_data"
    }
   ],
   "source": [
    "ax = sns.distplot(ca_videos.description_length, kde = False, color = 'midnightblue',\n",
    "                  hist_kws = {'alpha': 1})"
   ]
  },
  {
   "cell_type": "code",
   "execution_count": null,
   "metadata": {},
   "outputs": [],
   "source": []
  },
  {
   "cell_type": "code",
   "execution_count": null,
   "metadata": {},
   "outputs": [],
   "source": []
  }
 ],
 "metadata": {
  "kernelspec": {
   "display_name": "Python 2",
   "language": "python",
   "name": "python2"
  },
  "language_info": {
   "codemirror_mode": {
    "name": "ipython",
    "version": 2
   },
   "file_extension": ".py",
   "mimetype": "text/x-python",
   "name": "python",
   "nbconvert_exporter": "python",
   "pygments_lexer": "ipython2",
   "version": "2.7.16"
  }
 },
 "nbformat": 4,
 "nbformat_minor": 4
}
